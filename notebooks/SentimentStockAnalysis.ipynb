{
 "cells": [
  {
   "cell_type": "code",
   "execution_count": null,
   "id": "eb0a5908-4b70-41cc-9ba8-7be7c3f9d0c3",
   "metadata": {},
   "outputs": [],
   "source": [
    "import streamlit as st\n",
    "import pandas as pd\n",
    "import matplotlib.pyplot as plt\n",
    "import os\n",
    "\n",
    "st.set_page_config(page_title=\"Stock Price Visualization\")\n",
    "\n",
    "st.title(\"Stock Closing Prices Over Time\")\n",
    "\n",
    "file_path = os.path.join(\"..\", \"dataFiles\", \"stock_yfinance_data.csv\")\n",
    "\n",
    "df = pd.read_csv(file_path)\n",
    "df[\"Date\"] = pd.to_datetime(df[\"Date\"]).dt.date\n",
    "df = df.sort_values(by=\"Date\")\n",
    "\n",
    "st.subheader(\"Data Information\")\n",
    "buffer = st.expander(\"Show Data Info\")\n",
    "with buffer:\n",
    "    df_info = pd.DataFrame({\n",
    "        'Column': df.columns,\n",
    "        'Non-Null Count': df.count()\n",
    "    })\n",
    "    df_info['Type'] = [str(dtype) for dtype in df.dtypes]\n",
    "    st.dataframe(df_info)\n",
    "\n",
    "st.subheader(\"Data Preview\")\n",
    "st.dataframe(df.head())\n",
    "\n",
    "st.subheader(\"Stock Closing Prices\")\n",
    "fig, ax = plt.subplots(figsize=(10, 6))\n",
    "\n",
    "for stock in df[\"Stock Name\"].unique():\n",
    "    stock_df = df[df[\"Stock Name\"] == stock]\n",
    "    ax.plot(stock_df[\"Date\"], stock_df[\"Close\"], label=stock)\n",
    "\n",
    "ax.set_xlabel(\"Date\")\n",
    "ax.set_ylabel(\"Close Price\")\n",
    "ax.set_title(\"Stock Closing Prices Over Time\")\n",
    "ax.legend(loc=\"upper left\")\n",
    "\n",
    "st.pyplot(fig)\n",
    "\n",
    "st.subheader(\"Stock Summary Statistics\")\n",
    "st.dataframe(df.groupby(\"Stock Name\")[\"Close\"].describe())"
   ]
  }
 ],
 "metadata": {
  "kernelspec": {
   "display_name": "Python 3 (ipykernel)",
   "language": "python",
   "name": "python3"
  },
  "language_info": {
   "codemirror_mode": {
    "name": "ipython",
    "version": 3
   },
   "file_extension": ".py",
   "mimetype": "text/x-python",
   "name": "python",
   "nbconvert_exporter": "python",
   "pygments_lexer": "ipython3",
   "version": "3.12.6"
  }
 },
 "nbformat": 4,
 "nbformat_minor": 5
}
